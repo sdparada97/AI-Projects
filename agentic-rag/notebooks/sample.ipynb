{
 "cells": [
  {
   "cell_type": "markdown",
   "id": "9a362b03",
   "metadata": {},
   "source": [
    "# CONCEPTOS LANGGRAPH:"
   ]
  },
  {
   "cell_type": "markdown",
   "id": "a0da28ba",
   "metadata": {},
   "source": [
    "## STATES:"
   ]
  },
  {
   "cell_type": "code",
   "execution_count": 27,
   "id": "7409efe1",
   "metadata": {},
   "outputs": [
    {
     "name": "stdout",
     "output_type": "stream",
     "text": [
      "Customer name is: None\n"
     ]
    }
   ],
   "source": [
    "from typing import TypedDict\n",
    "\n",
    "class State(TypedDict):\n",
    "    customer_name: str\n",
    "    my_age: int\n",
    "\n",
    "state: State = {}\n",
    "customer_name = state.get(\"customer_name\", None)\n",
    "print(f\"Customer name is: {customer_name}\")"
   ]
  },
  {
   "cell_type": "markdown",
   "id": "f67cab38",
   "metadata": {},
   "source": [
    "## NODES:"
   ]
  },
  {
   "cell_type": "code",
   "execution_count": 28,
   "id": "f348fc13",
   "metadata": {},
   "outputs": [],
   "source": [
    "def node (state: State):\n",
    "    if state.get(\"customer_name\") is None:\n",
    "        return {\"customer_name\": \"John Doe\"}\n",
    "    return {}"
   ]
  },
  {
   "cell_type": "markdown",
   "id": "f335dcc7",
   "metadata": {},
   "source": [
    "## ORQUESTATOR FLOW / AGENT:"
   ]
  },
  {
   "cell_type": "code",
   "execution_count": 29,
   "id": "e27f8b87",
   "metadata": {},
   "outputs": [],
   "source": [
    "from langgraph.graph import StateGraph, START, END\n",
    "\n",
    "builder = StateGraph(State)\n",
    "builder.add_node(\"node\", node)\n",
    "\n",
    "builder.add_edge(START, \"node\")\n",
    "builder.add_edge(\"node\", END)\n",
    "\n",
    "agent = builder.compile()"
   ]
  },
  {
   "cell_type": "code",
   "execution_count": 30,
   "id": "179fb2f6",
   "metadata": {},
   "outputs": [
    {
     "data": {
      "image/png": "[encoded data removed]",
      "text/plain": [
       "<IPython.core.display.Image object>"
      ]
     },
     "metadata": {},
     "output_type": "display_data"
    }
   ],
   "source": [
    "from IPython.display import display, Image\n",
    "\n",
    "display(Image(agent.get_graph().draw_mermaid_png()))"
   ]
  },
  {
   "cell_type": "markdown",
   "id": "6f51f33f",
   "metadata": {},
   "source": [
    "## MESSAGES (HISTORY):"
   ]
  },
  {
   "cell_type": "code",
   "execution_count": 31,
   "id": "df992ebb",
   "metadata": {},
   "outputs": [
    {
     "name": "stdout",
     "output_type": "stream",
     "text": [
      "================================\u001b[1m Human Message \u001b[0m=================================\n",
      "\n",
      "Hello, I am a human\n",
      "==================================\u001b[1m Ai Message \u001b[0m==================================\n",
      "\n",
      "Hello, I am an AI\n"
     ]
    }
   ],
   "source": [
    "from langchain_core.messages import SystemMessage, HumanMessage, AIMessage\n",
    "\n",
    "ai_msg = AIMessage(content=\"Hello, I am an AI\")\n",
    "ai_msg.text\n",
    "\n",
    "human_msg = HumanMessage(content=\"Hello, I am a human\")\n",
    "human_msg.text\n",
    "\n",
    "history = [human_msg, ai_msg]\n",
    "for msg in history:\n",
    "    msg.pretty_print()"
   ]
  }
 ],
 "metadata": {
  "kernelspec": {
   "display_name": "std-env-agentic-rag",
   "language": "python",
   "name": "python3"
  },
  "language_info": {
   "codemirror_mode": {
    "name": "ipython",
    "version": 3
   },
   "file_extension": ".py",
   "mimetype": "text/x-python",
   "name": "python",
   "nbconvert_exporter": "python",
   "pygments_lexer": "ipython3",
   "version": "3.13.9"
  }
 },
 "nbformat": 4,
 "nbformat_minor": 5
}
